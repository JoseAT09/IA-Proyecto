{
  "nbformat": 4,
  "nbformat_minor": 0,
  "metadata": {
    "colab": {
      "provenance": []
    },
    "kernelspec": {
      "name": "python3",
      "display_name": "Python 3"
    },
    "language_info": {
      "name": "python"
    }
  },
  "cells": [
    {
      "cell_type": "code",
      "execution_count": 83,
      "metadata": {
        "id": "Z2edwTt00c0H"
      },
      "outputs": [],
      "source": [
        "#@title Importar librerias\n",
        "import pandas as pd\n",
        "import numpy as np\n",
        "import matplotlib.pyplot as plt\n",
        "import seaborn as sns\n",
        "from sklearn.model_selection import train_test_split\n",
        "from sklearn.naive_bayes import GaussianNB\n",
        "from sklearn.metrics import *\n",
        "from sklearn.tree import DecisionTreeClassifier\n",
        "from sklearn.model_selection import KFold\n",
        "from sklearn.model_selection import cross_val_score\n",
        "from sklearn.ensemble import RandomForestClassifier\n",
        "from sklearn.svm import SVC\n",
        "from sklearn.tree import DecisionTreeRegressor\n",
        "\n",
        "\n"
      ]
    },
    {
      "cell_type": "code",
      "source": [
        "#@title Data Frame\n",
        "a =  data = pd.read_csv('https://www.datos.gov.co/api/views/96sh-4v8d/rows.csv?accessType=DOWNLOAD')\n",
        "\n",
        "#@markdown se elimina el iso 99999 que no corresponde a ninguna pais y son datos que pueden afectar el data frame\n",
        "\n",
        "df = a.drop(a[a['Codigo Iso 3166']==99999].index)"
      ],
      "metadata": {
        "id": "Uf1KrTQP9BtL"
      },
      "execution_count": 84,
      "outputs": []
    },
    {
      "cell_type": "code",
      "source": [
        "a[a['Codigo Iso 3166']==99999]"
      ],
      "metadata": {
        "colab": {
          "base_uri": "https://localhost:8080/",
          "height": 424
        },
        "id": "F6qt0yyBu2_2",
        "outputId": "7f74267e-9172-4ad4-f7fc-ef72e0b0c818"
      },
      "execution_count": 85,
      "outputs": [
        {
          "output_type": "execute_result",
          "data": {
            "text/plain": [
              "         Año    Mes             Nacionalidad  Codigo Iso 3166  Femenino  \\\n",
              "0       2012  Enero  Islas Alboran y Perejil            99999         1   \n",
              "253     2012  Enero                  Curazao            99999         0   \n",
              "254     2012  Enero                  Curazao            99999         1   \n",
              "511     2012  Enero            Isla Johnston            99999         0   \n",
              "512     2012  Enero            Isla Johnston            99999         0   \n",
              "...      ...    ...                      ...              ...       ...   \n",
              "118342  2022  Junio                Palestina            99999         1   \n",
              "118584  2022  Junio              Desconocido            99999         1   \n",
              "118585  2022  Junio              Desconocido            99999        41   \n",
              "118586  2022  Junio              Desconocido            99999         0   \n",
              "118587  2022  Junio              Desconocido            99999         1   \n",
              "\n",
              "        Masculino  Indefinido  Total      Latitud - Longitud  \n",
              "0               0         NaN      1   (4.697144,-74.140516)  \n",
              "253             1         NaN      1   (4.697144,-74.140516)  \n",
              "254             0         NaN      1   (6.171601,-75.427454)  \n",
              "511             1         NaN      1  (10.886611,-74.776708)  \n",
              "512             1         NaN      1   (4.697144,-74.140516)  \n",
              "...           ...         ...    ...                     ...  \n",
              "118342          2         NaN      3   (4.697144,-74.140516)  \n",
              "118584          2         NaN      3  (10.445761,-75.516429)  \n",
              "118585         58         NaN     99   (4.697144,-74.140516)  \n",
              "118586          2         NaN      2   (6.171601,-75.427454)  \n",
              "118587          1         NaN      2   (7.818934,-72.453226)  \n",
              "\n",
              "[1549 rows x 9 columns]"
            ],
            "text/html": [
              "\n",
              "  <div id=\"df-a71fe7eb-31bb-4d2e-bd29-c41fa9622ddf\">\n",
              "    <div class=\"colab-df-container\">\n",
              "      <div>\n",
              "<style scoped>\n",
              "    .dataframe tbody tr th:only-of-type {\n",
              "        vertical-align: middle;\n",
              "    }\n",
              "\n",
              "    .dataframe tbody tr th {\n",
              "        vertical-align: top;\n",
              "    }\n",
              "\n",
              "    .dataframe thead th {\n",
              "        text-align: right;\n",
              "    }\n",
              "</style>\n",
              "<table border=\"1\" class=\"dataframe\">\n",
              "  <thead>\n",
              "    <tr style=\"text-align: right;\">\n",
              "      <th></th>\n",
              "      <th>Año</th>\n",
              "      <th>Mes</th>\n",
              "      <th>Nacionalidad</th>\n",
              "      <th>Codigo Iso 3166</th>\n",
              "      <th>Femenino</th>\n",
              "      <th>Masculino</th>\n",
              "      <th>Indefinido</th>\n",
              "      <th>Total</th>\n",
              "      <th>Latitud - Longitud</th>\n",
              "    </tr>\n",
              "  </thead>\n",
              "  <tbody>\n",
              "    <tr>\n",
              "      <th>0</th>\n",
              "      <td>2012</td>\n",
              "      <td>Enero</td>\n",
              "      <td>Islas Alboran y Perejil</td>\n",
              "      <td>99999</td>\n",
              "      <td>1</td>\n",
              "      <td>0</td>\n",
              "      <td>NaN</td>\n",
              "      <td>1</td>\n",
              "      <td>(4.697144,-74.140516)</td>\n",
              "    </tr>\n",
              "    <tr>\n",
              "      <th>253</th>\n",
              "      <td>2012</td>\n",
              "      <td>Enero</td>\n",
              "      <td>Curazao</td>\n",
              "      <td>99999</td>\n",
              "      <td>0</td>\n",
              "      <td>1</td>\n",
              "      <td>NaN</td>\n",
              "      <td>1</td>\n",
              "      <td>(4.697144,-74.140516)</td>\n",
              "    </tr>\n",
              "    <tr>\n",
              "      <th>254</th>\n",
              "      <td>2012</td>\n",
              "      <td>Enero</td>\n",
              "      <td>Curazao</td>\n",
              "      <td>99999</td>\n",
              "      <td>1</td>\n",
              "      <td>0</td>\n",
              "      <td>NaN</td>\n",
              "      <td>1</td>\n",
              "      <td>(6.171601,-75.427454)</td>\n",
              "    </tr>\n",
              "    <tr>\n",
              "      <th>511</th>\n",
              "      <td>2012</td>\n",
              "      <td>Enero</td>\n",
              "      <td>Isla Johnston</td>\n",
              "      <td>99999</td>\n",
              "      <td>0</td>\n",
              "      <td>1</td>\n",
              "      <td>NaN</td>\n",
              "      <td>1</td>\n",
              "      <td>(10.886611,-74.776708)</td>\n",
              "    </tr>\n",
              "    <tr>\n",
              "      <th>512</th>\n",
              "      <td>2012</td>\n",
              "      <td>Enero</td>\n",
              "      <td>Isla Johnston</td>\n",
              "      <td>99999</td>\n",
              "      <td>0</td>\n",
              "      <td>1</td>\n",
              "      <td>NaN</td>\n",
              "      <td>1</td>\n",
              "      <td>(4.697144,-74.140516)</td>\n",
              "    </tr>\n",
              "    <tr>\n",
              "      <th>...</th>\n",
              "      <td>...</td>\n",
              "      <td>...</td>\n",
              "      <td>...</td>\n",
              "      <td>...</td>\n",
              "      <td>...</td>\n",
              "      <td>...</td>\n",
              "      <td>...</td>\n",
              "      <td>...</td>\n",
              "      <td>...</td>\n",
              "    </tr>\n",
              "    <tr>\n",
              "      <th>118342</th>\n",
              "      <td>2022</td>\n",
              "      <td>Junio</td>\n",
              "      <td>Palestina</td>\n",
              "      <td>99999</td>\n",
              "      <td>1</td>\n",
              "      <td>2</td>\n",
              "      <td>NaN</td>\n",
              "      <td>3</td>\n",
              "      <td>(4.697144,-74.140516)</td>\n",
              "    </tr>\n",
              "    <tr>\n",
              "      <th>118584</th>\n",
              "      <td>2022</td>\n",
              "      <td>Junio</td>\n",
              "      <td>Desconocido</td>\n",
              "      <td>99999</td>\n",
              "      <td>1</td>\n",
              "      <td>2</td>\n",
              "      <td>NaN</td>\n",
              "      <td>3</td>\n",
              "      <td>(10.445761,-75.516429)</td>\n",
              "    </tr>\n",
              "    <tr>\n",
              "      <th>118585</th>\n",
              "      <td>2022</td>\n",
              "      <td>Junio</td>\n",
              "      <td>Desconocido</td>\n",
              "      <td>99999</td>\n",
              "      <td>41</td>\n",
              "      <td>58</td>\n",
              "      <td>NaN</td>\n",
              "      <td>99</td>\n",
              "      <td>(4.697144,-74.140516)</td>\n",
              "    </tr>\n",
              "    <tr>\n",
              "      <th>118586</th>\n",
              "      <td>2022</td>\n",
              "      <td>Junio</td>\n",
              "      <td>Desconocido</td>\n",
              "      <td>99999</td>\n",
              "      <td>0</td>\n",
              "      <td>2</td>\n",
              "      <td>NaN</td>\n",
              "      <td>2</td>\n",
              "      <td>(6.171601,-75.427454)</td>\n",
              "    </tr>\n",
              "    <tr>\n",
              "      <th>118587</th>\n",
              "      <td>2022</td>\n",
              "      <td>Junio</td>\n",
              "      <td>Desconocido</td>\n",
              "      <td>99999</td>\n",
              "      <td>1</td>\n",
              "      <td>1</td>\n",
              "      <td>NaN</td>\n",
              "      <td>2</td>\n",
              "      <td>(7.818934,-72.453226)</td>\n",
              "    </tr>\n",
              "  </tbody>\n",
              "</table>\n",
              "<p>1549 rows × 9 columns</p>\n",
              "</div>\n",
              "      <button class=\"colab-df-convert\" onclick=\"convertToInteractive('df-a71fe7eb-31bb-4d2e-bd29-c41fa9622ddf')\"\n",
              "              title=\"Convert this dataframe to an interactive table.\"\n",
              "              style=\"display:none;\">\n",
              "        \n",
              "  <svg xmlns=\"http://www.w3.org/2000/svg\" height=\"24px\"viewBox=\"0 0 24 24\"\n",
              "       width=\"24px\">\n",
              "    <path d=\"M0 0h24v24H0V0z\" fill=\"none\"/>\n",
              "    <path d=\"M18.56 5.44l.94 2.06.94-2.06 2.06-.94-2.06-.94-.94-2.06-.94 2.06-2.06.94zm-11 1L8.5 8.5l.94-2.06 2.06-.94-2.06-.94L8.5 2.5l-.94 2.06-2.06.94zm10 10l.94 2.06.94-2.06 2.06-.94-2.06-.94-.94-2.06-.94 2.06-2.06.94z\"/><path d=\"M17.41 7.96l-1.37-1.37c-.4-.4-.92-.59-1.43-.59-.52 0-1.04.2-1.43.59L10.3 9.45l-7.72 7.72c-.78.78-.78 2.05 0 2.83L4 21.41c.39.39.9.59 1.41.59.51 0 1.02-.2 1.41-.59l7.78-7.78 2.81-2.81c.8-.78.8-2.07 0-2.86zM5.41 20L4 18.59l7.72-7.72 1.47 1.35L5.41 20z\"/>\n",
              "  </svg>\n",
              "      </button>\n",
              "      \n",
              "  <style>\n",
              "    .colab-df-container {\n",
              "      display:flex;\n",
              "      flex-wrap:wrap;\n",
              "      gap: 12px;\n",
              "    }\n",
              "\n",
              "    .colab-df-convert {\n",
              "      background-color: #E8F0FE;\n",
              "      border: none;\n",
              "      border-radius: 50%;\n",
              "      cursor: pointer;\n",
              "      display: none;\n",
              "      fill: #1967D2;\n",
              "      height: 32px;\n",
              "      padding: 0 0 0 0;\n",
              "      width: 32px;\n",
              "    }\n",
              "\n",
              "    .colab-df-convert:hover {\n",
              "      background-color: #E2EBFA;\n",
              "      box-shadow: 0px 1px 2px rgba(60, 64, 67, 0.3), 0px 1px 3px 1px rgba(60, 64, 67, 0.15);\n",
              "      fill: #174EA6;\n",
              "    }\n",
              "\n",
              "    [theme=dark] .colab-df-convert {\n",
              "      background-color: #3B4455;\n",
              "      fill: #D2E3FC;\n",
              "    }\n",
              "\n",
              "    [theme=dark] .colab-df-convert:hover {\n",
              "      background-color: #434B5C;\n",
              "      box-shadow: 0px 1px 3px 1px rgba(0, 0, 0, 0.15);\n",
              "      filter: drop-shadow(0px 1px 2px rgba(0, 0, 0, 0.3));\n",
              "      fill: #FFFFFF;\n",
              "    }\n",
              "  </style>\n",
              "\n",
              "      <script>\n",
              "        const buttonEl =\n",
              "          document.querySelector('#df-a71fe7eb-31bb-4d2e-bd29-c41fa9622ddf button.colab-df-convert');\n",
              "        buttonEl.style.display =\n",
              "          google.colab.kernel.accessAllowed ? 'block' : 'none';\n",
              "\n",
              "        async function convertToInteractive(key) {\n",
              "          const element = document.querySelector('#df-a71fe7eb-31bb-4d2e-bd29-c41fa9622ddf');\n",
              "          const dataTable =\n",
              "            await google.colab.kernel.invokeFunction('convertToInteractive',\n",
              "                                                     [key], {});\n",
              "          if (!dataTable) return;\n",
              "\n",
              "          const docLinkHtml = 'Like what you see? Visit the ' +\n",
              "            '<a target=\"_blank\" href=https://colab.research.google.com/notebooks/data_table.ipynb>data table notebook</a>'\n",
              "            + ' to learn more about interactive tables.';\n",
              "          element.innerHTML = '';\n",
              "          dataTable['output_type'] = 'display_data';\n",
              "          await google.colab.output.renderOutput(dataTable, element);\n",
              "          const docLink = document.createElement('div');\n",
              "          docLink.innerHTML = docLinkHtml;\n",
              "          element.appendChild(docLink);\n",
              "        }\n",
              "      </script>\n",
              "    </div>\n",
              "  </div>\n",
              "  "
            ]
          },
          "metadata": {},
          "execution_count": 85
        }
      ]
    },
    {
      "cell_type": "code",
      "source": [
        "#@title Codigo Iso\n",
        "#@markdown Se organizan los nombres de las Nacionalidades\n",
        "\n",
        "cod = df['Codigo Iso 3166'].unique()\n",
        "for i in cod:\n",
        "  ind = a[a['Codigo Iso 3166']==i].index\n",
        "  nac = a[\"Nacionalidad\"][ind[0]]\n",
        "  df.loc[df['Codigo Iso 3166'] == i,'Nacionalidad']= nac\n"
      ],
      "metadata": {
        "id": "fYTJTnOH1_-d",
        "cellView": "form"
      },
      "execution_count": 103,
      "outputs": []
    },
    {
      "cell_type": "code",
      "source": [
        "lon = df[\"Latitud - Longitud\"].str.split(expand=True)\n",
        "lon = lon[0].str.split('(', expand=True)\n",
        "lon = lon[1].str.split(')', expand=True)\n",
        "lon = lon[0].str.split(',', expand=True)\n",
        "lon.columns = ['Latitud', 'Longitud']\n",
        "lon = lon[['Longitud','Latitud']].astype(float)\n",
        "df = pd.concat([df, lon], axis=1)\n",
        "lon = df['Longitud'].value_counts().index[0] \n",
        "lat = df[\"Latitud\"].value_counts().index[0]\n",
        "df.Longitud.fillna(lon, inplace=True)\n",
        "df.Latitud.fillna(lat, inplace=True)"
      ],
      "metadata": {
        "id": "HHGOrhTgtFrY"
      },
      "execution_count": 104,
      "outputs": []
    },
    {
      "cell_type": "code",
      "source": [
        "df.head(10)"
      ],
      "metadata": {
        "colab": {
          "base_uri": "https://localhost:8080/",
          "height": 363
        },
        "id": "l68lhV-nDwpM",
        "outputId": "32431f86-5f14-483c-d9cf-8afdebc7fbe3"
      },
      "execution_count": 87,
      "outputs": [
        {
          "output_type": "execute_result",
          "data": {
            "text/plain": [
              "     Año    Mes Nacionalidad  Codigo Iso 3166  Femenino  Masculino  \\\n",
              "1   2012  Enero      Albania                8         1          2   \n",
              "2   2012  Enero     Alemania              276        11         16   \n",
              "3   2012  Enero     Alemania              276         1          1   \n",
              "4   2012  Enero     Alemania              276        63        102   \n",
              "5   2012  Enero     Alemania              276        22         23   \n",
              "6   2012  Enero     Alemania              276        27         48   \n",
              "7   2012  Enero     Alemania              276         7          4   \n",
              "8   2012  Enero     Alemania              276         1          1   \n",
              "9   2012  Enero     Alemania              276         8         21   \n",
              "10  2012  Enero     Alemania              276         6          7   \n",
              "\n",
              "    Indefinido  Total      Latitud - Longitud  \n",
              "1          NaN      3   (4.697144,-74.140516)  \n",
              "2          NaN     27  (-4.197703,-69.941278)  \n",
              "3          NaN      2    (0.25129,-76.875963)  \n",
              "4          NaN    165   (0.814836,-77.662532)  \n",
              "5          NaN     45  (10.408582,-75.538003)  \n",
              "6          NaN     75  (10.445761,-75.516429)  \n",
              "7          NaN     11  (10.886611,-74.776708)  \n",
              "8          NaN      2  (11.247723,-74.213989)  \n",
              "9          NaN     29  (11.360009,-72.129330)  \n",
              "10         NaN     13  (12.586067,-81.702563)  "
            ],
            "text/html": [
              "\n",
              "  <div id=\"df-70550796-b7a2-4ab0-a4f1-7ec58400b8dd\">\n",
              "    <div class=\"colab-df-container\">\n",
              "      <div>\n",
              "<style scoped>\n",
              "    .dataframe tbody tr th:only-of-type {\n",
              "        vertical-align: middle;\n",
              "    }\n",
              "\n",
              "    .dataframe tbody tr th {\n",
              "        vertical-align: top;\n",
              "    }\n",
              "\n",
              "    .dataframe thead th {\n",
              "        text-align: right;\n",
              "    }\n",
              "</style>\n",
              "<table border=\"1\" class=\"dataframe\">\n",
              "  <thead>\n",
              "    <tr style=\"text-align: right;\">\n",
              "      <th></th>\n",
              "      <th>Año</th>\n",
              "      <th>Mes</th>\n",
              "      <th>Nacionalidad</th>\n",
              "      <th>Codigo Iso 3166</th>\n",
              "      <th>Femenino</th>\n",
              "      <th>Masculino</th>\n",
              "      <th>Indefinido</th>\n",
              "      <th>Total</th>\n",
              "      <th>Latitud - Longitud</th>\n",
              "    </tr>\n",
              "  </thead>\n",
              "  <tbody>\n",
              "    <tr>\n",
              "      <th>1</th>\n",
              "      <td>2012</td>\n",
              "      <td>Enero</td>\n",
              "      <td>Albania</td>\n",
              "      <td>8</td>\n",
              "      <td>1</td>\n",
              "      <td>2</td>\n",
              "      <td>NaN</td>\n",
              "      <td>3</td>\n",
              "      <td>(4.697144,-74.140516)</td>\n",
              "    </tr>\n",
              "    <tr>\n",
              "      <th>2</th>\n",
              "      <td>2012</td>\n",
              "      <td>Enero</td>\n",
              "      <td>Alemania</td>\n",
              "      <td>276</td>\n",
              "      <td>11</td>\n",
              "      <td>16</td>\n",
              "      <td>NaN</td>\n",
              "      <td>27</td>\n",
              "      <td>(-4.197703,-69.941278)</td>\n",
              "    </tr>\n",
              "    <tr>\n",
              "      <th>3</th>\n",
              "      <td>2012</td>\n",
              "      <td>Enero</td>\n",
              "      <td>Alemania</td>\n",
              "      <td>276</td>\n",
              "      <td>1</td>\n",
              "      <td>1</td>\n",
              "      <td>NaN</td>\n",
              "      <td>2</td>\n",
              "      <td>(0.25129,-76.875963)</td>\n",
              "    </tr>\n",
              "    <tr>\n",
              "      <th>4</th>\n",
              "      <td>2012</td>\n",
              "      <td>Enero</td>\n",
              "      <td>Alemania</td>\n",
              "      <td>276</td>\n",
              "      <td>63</td>\n",
              "      <td>102</td>\n",
              "      <td>NaN</td>\n",
              "      <td>165</td>\n",
              "      <td>(0.814836,-77.662532)</td>\n",
              "    </tr>\n",
              "    <tr>\n",
              "      <th>5</th>\n",
              "      <td>2012</td>\n",
              "      <td>Enero</td>\n",
              "      <td>Alemania</td>\n",
              "      <td>276</td>\n",
              "      <td>22</td>\n",
              "      <td>23</td>\n",
              "      <td>NaN</td>\n",
              "      <td>45</td>\n",
              "      <td>(10.408582,-75.538003)</td>\n",
              "    </tr>\n",
              "    <tr>\n",
              "      <th>6</th>\n",
              "      <td>2012</td>\n",
              "      <td>Enero</td>\n",
              "      <td>Alemania</td>\n",
              "      <td>276</td>\n",
              "      <td>27</td>\n",
              "      <td>48</td>\n",
              "      <td>NaN</td>\n",
              "      <td>75</td>\n",
              "      <td>(10.445761,-75.516429)</td>\n",
              "    </tr>\n",
              "    <tr>\n",
              "      <th>7</th>\n",
              "      <td>2012</td>\n",
              "      <td>Enero</td>\n",
              "      <td>Alemania</td>\n",
              "      <td>276</td>\n",
              "      <td>7</td>\n",
              "      <td>4</td>\n",
              "      <td>NaN</td>\n",
              "      <td>11</td>\n",
              "      <td>(10.886611,-74.776708)</td>\n",
              "    </tr>\n",
              "    <tr>\n",
              "      <th>8</th>\n",
              "      <td>2012</td>\n",
              "      <td>Enero</td>\n",
              "      <td>Alemania</td>\n",
              "      <td>276</td>\n",
              "      <td>1</td>\n",
              "      <td>1</td>\n",
              "      <td>NaN</td>\n",
              "      <td>2</td>\n",
              "      <td>(11.247723,-74.213989)</td>\n",
              "    </tr>\n",
              "    <tr>\n",
              "      <th>9</th>\n",
              "      <td>2012</td>\n",
              "      <td>Enero</td>\n",
              "      <td>Alemania</td>\n",
              "      <td>276</td>\n",
              "      <td>8</td>\n",
              "      <td>21</td>\n",
              "      <td>NaN</td>\n",
              "      <td>29</td>\n",
              "      <td>(11.360009,-72.129330)</td>\n",
              "    </tr>\n",
              "    <tr>\n",
              "      <th>10</th>\n",
              "      <td>2012</td>\n",
              "      <td>Enero</td>\n",
              "      <td>Alemania</td>\n",
              "      <td>276</td>\n",
              "      <td>6</td>\n",
              "      <td>7</td>\n",
              "      <td>NaN</td>\n",
              "      <td>13</td>\n",
              "      <td>(12.586067,-81.702563)</td>\n",
              "    </tr>\n",
              "  </tbody>\n",
              "</table>\n",
              "</div>\n",
              "      <button class=\"colab-df-convert\" onclick=\"convertToInteractive('df-70550796-b7a2-4ab0-a4f1-7ec58400b8dd')\"\n",
              "              title=\"Convert this dataframe to an interactive table.\"\n",
              "              style=\"display:none;\">\n",
              "        \n",
              "  <svg xmlns=\"http://www.w3.org/2000/svg\" height=\"24px\"viewBox=\"0 0 24 24\"\n",
              "       width=\"24px\">\n",
              "    <path d=\"M0 0h24v24H0V0z\" fill=\"none\"/>\n",
              "    <path d=\"M18.56 5.44l.94 2.06.94-2.06 2.06-.94-2.06-.94-.94-2.06-.94 2.06-2.06.94zm-11 1L8.5 8.5l.94-2.06 2.06-.94-2.06-.94L8.5 2.5l-.94 2.06-2.06.94zm10 10l.94 2.06.94-2.06 2.06-.94-2.06-.94-.94-2.06-.94 2.06-2.06.94z\"/><path d=\"M17.41 7.96l-1.37-1.37c-.4-.4-.92-.59-1.43-.59-.52 0-1.04.2-1.43.59L10.3 9.45l-7.72 7.72c-.78.78-.78 2.05 0 2.83L4 21.41c.39.39.9.59 1.41.59.51 0 1.02-.2 1.41-.59l7.78-7.78 2.81-2.81c.8-.78.8-2.07 0-2.86zM5.41 20L4 18.59l7.72-7.72 1.47 1.35L5.41 20z\"/>\n",
              "  </svg>\n",
              "      </button>\n",
              "      \n",
              "  <style>\n",
              "    .colab-df-container {\n",
              "      display:flex;\n",
              "      flex-wrap:wrap;\n",
              "      gap: 12px;\n",
              "    }\n",
              "\n",
              "    .colab-df-convert {\n",
              "      background-color: #E8F0FE;\n",
              "      border: none;\n",
              "      border-radius: 50%;\n",
              "      cursor: pointer;\n",
              "      display: none;\n",
              "      fill: #1967D2;\n",
              "      height: 32px;\n",
              "      padding: 0 0 0 0;\n",
              "      width: 32px;\n",
              "    }\n",
              "\n",
              "    .colab-df-convert:hover {\n",
              "      background-color: #E2EBFA;\n",
              "      box-shadow: 0px 1px 2px rgba(60, 64, 67, 0.3), 0px 1px 3px 1px rgba(60, 64, 67, 0.15);\n",
              "      fill: #174EA6;\n",
              "    }\n",
              "\n",
              "    [theme=dark] .colab-df-convert {\n",
              "      background-color: #3B4455;\n",
              "      fill: #D2E3FC;\n",
              "    }\n",
              "\n",
              "    [theme=dark] .colab-df-convert:hover {\n",
              "      background-color: #434B5C;\n",
              "      box-shadow: 0px 1px 3px 1px rgba(0, 0, 0, 0.15);\n",
              "      filter: drop-shadow(0px 1px 2px rgba(0, 0, 0, 0.3));\n",
              "      fill: #FFFFFF;\n",
              "    }\n",
              "  </style>\n",
              "\n",
              "      <script>\n",
              "        const buttonEl =\n",
              "          document.querySelector('#df-70550796-b7a2-4ab0-a4f1-7ec58400b8dd button.colab-df-convert');\n",
              "        buttonEl.style.display =\n",
              "          google.colab.kernel.accessAllowed ? 'block' : 'none';\n",
              "\n",
              "        async function convertToInteractive(key) {\n",
              "          const element = document.querySelector('#df-70550796-b7a2-4ab0-a4f1-7ec58400b8dd');\n",
              "          const dataTable =\n",
              "            await google.colab.kernel.invokeFunction('convertToInteractive',\n",
              "                                                     [key], {});\n",
              "          if (!dataTable) return;\n",
              "\n",
              "          const docLinkHtml = 'Like what you see? Visit the ' +\n",
              "            '<a target=\"_blank\" href=https://colab.research.google.com/notebooks/data_table.ipynb>data table notebook</a>'\n",
              "            + ' to learn more about interactive tables.';\n",
              "          element.innerHTML = '';\n",
              "          dataTable['output_type'] = 'display_data';\n",
              "          await google.colab.output.renderOutput(dataTable, element);\n",
              "          const docLink = document.createElement('div');\n",
              "          docLink.innerHTML = docLinkHtml;\n",
              "          element.appendChild(docLink);\n",
              "        }\n",
              "      </script>\n",
              "    </div>\n",
              "  </div>\n",
              "  "
            ]
          },
          "metadata": {},
          "execution_count": 87
        }
      ]
    },
    {
      "cell_type": "code",
      "source": [
        "df.dtypes"
      ],
      "metadata": {
        "colab": {
          "base_uri": "https://localhost:8080/"
        },
        "id": "16zSUgbVjmYM",
        "outputId": "1884f73b-a3b7-4dd5-e77c-02ccefa33abe"
      },
      "execution_count": 88,
      "outputs": [
        {
          "output_type": "execute_result",
          "data": {
            "text/plain": [
              "Año                     int64\n",
              "Mes                    object\n",
              "Nacionalidad           object\n",
              "Codigo Iso 3166         int64\n",
              "Femenino                int64\n",
              "Masculino               int64\n",
              "Indefinido            float64\n",
              "Total                   int64\n",
              "Latitud - Longitud     object\n",
              "dtype: object"
            ]
          },
          "metadata": {},
          "execution_count": 88
        }
      ]
    },
    {
      "cell_type": "code",
      "source": [
        "print(\"Desviacion estandar:\\n\", df.std())\n",
        "print(\"\\n\\n\")\n",
        "print(\"Promedio:\\n\", df.mean())"
      ],
      "metadata": {
        "colab": {
          "base_uri": "https://localhost:8080/"
        },
        "id": "hrCxox-NtnPX",
        "outputId": "fab58784-4376-407b-97bb-5b6fa9840511"
      },
      "execution_count": 102,
      "outputs": [
        {
          "output_type": "stream",
          "name": "stderr",
          "text": [
            "<ipython-input-102-cbb235e791db>:1: FutureWarning: Dropping of nuisance columns in DataFrame reductions (with 'numeric_only=None') is deprecated; in a future version this will raise TypeError.  Select only valid columns before calling the reduction.\n",
            "  print(\"Desviacion estandar:\\n\", df.std())\n"
          ]
        },
        {
          "output_type": "stream",
          "name": "stdout",
          "text": [
            "Desviacion estandar:\n",
            " Año                   2.917766\n",
            "Codigo Iso 3166     260.433955\n",
            "Femenino            685.558253\n",
            "Masculino           871.151670\n",
            "Indefinido                 NaN\n",
            "Total              1541.029515\n",
            "dtype: float64\n",
            "\n",
            "\n",
            "\n",
            "Promedio:\n",
            " Año                2016.581909\n",
            "Codigo Iso 3166     428.098002\n",
            "Femenino             93.048539\n",
            "Masculino           130.660241\n",
            "Indefinido                 NaN\n",
            "Total               223.717222\n",
            "dtype: float64\n"
          ]
        },
        {
          "output_type": "stream",
          "name": "stderr",
          "text": [
            "<ipython-input-102-cbb235e791db>:3: FutureWarning: Dropping of nuisance columns in DataFrame reductions (with 'numeric_only=None') is deprecated; in a future version this will raise TypeError.  Select only valid columns before calling the reduction.\n",
            "  print(\"Promedio:\\n\", df.mean())\n"
          ]
        }
      ]
    },
    {
      "cell_type": "code",
      "source": [
        "gr = df.groupby([\"Año\"]).sum().sort_values(by=\"Femenino\",ascending=False)\n",
        "\n",
        "\n",
        "#sns.catplot(data =gr, kind=\"bar\", x = gr.index.values , y = gr.Masculino.values);\n",
        "#sns.catplot(data =gr, kind=\"bar\", x = gr.index.values , y = gr.Femenino.values);\n",
        "plt.subplots(figsize=(15, 5))\n",
        "plt.subplot(1,2,1)\n",
        "sns.histplot(x=gr.index,y=gr.Femenino, color='purple')\n",
        "plt.subplot(1,2,2)\n",
        "sns.histplot(x=gr.index,y=gr.Masculino, color='blue')"
      ],
      "metadata": {
        "colab": {
          "base_uri": "https://localhost:8080/",
          "height": 362
        },
        "id": "zxmMOaa3IZgL",
        "outputId": "afa75383-c8f6-4f99-a8b5-d2d583b2fb86"
      },
      "execution_count": 101,
      "outputs": [
        {
          "output_type": "execute_result",
          "data": {
            "text/plain": [
              "<matplotlib.axes._subplots.AxesSubplot at 0x7f77c70f85e0>"
            ]
          },
          "metadata": {},
          "execution_count": 101
        },
        {
          "output_type": "display_data",
          "data": {
            "text/plain": [
              "<Figure size 1080x360 with 2 Axes>"
            ],
            "image/png": "[encoded data removed]"
          },
          "metadata": {
            "needs_background": "light"
          }
        }
      ]
    },
    {
      "cell_type": "code",
      "source": [
        "sns.heatmap(df.corr(), annot=True, fmt=\".2f\")"
      ],
      "metadata": {
        "colab": {
          "base_uri": "https://localhost:8080/",
          "height": 357
        },
        "id": "lJXtSTTwQqo1",
        "outputId": "1bc63b9b-c8cc-429d-880d-8f0fcbb78fd1"
      },
      "execution_count": 100,
      "outputs": [
        {
          "output_type": "execute_result",
          "data": {
            "text/plain": [
              "<matplotlib.axes._subplots.AxesSubplot at 0x7f77cb02cd60>"
            ]
          },
          "metadata": {},
          "execution_count": 100
        },
        {
          "output_type": "display_data",
          "data": {
            "text/plain": [
              "<Figure size 432x288 with 2 Axes>"
            ],
            "image/png": "[encoded data removed]"
          },
          "metadata": {
            "needs_background": "light"
          }
        }
      ]
    },
    {
      "cell_type": "code",
      "source": [
        "aa = df[[\"Nacionalidad\",\"Total\"]]\n",
        "aa.head()\n",
        "aa = aa.groupby([\"Nacionalidad\"]).sum().sort_values(by=\"Total\",ascending=False)\n",
        "\n",
        "plt.subplots(figsize=(25, 5))\n",
        "plt.plot(aa.head(12).index,aa.head(12).Total)\n",
        "plt.scatter(aa.head(12).index,aa.head(12).Total)\n",
        "plt.show()"
      ],
      "metadata": {
        "colab": {
          "base_uri": "https://localhost:8080/",
          "height": 331
        },
        "id": "SL6jCUaV46AD",
        "outputId": "da584bdf-eb60-425f-9b19-721901d06064"
      },
      "execution_count": 99,
      "outputs": [
        {
          "output_type": "display_data",
          "data": {
            "text/plain": [
              "<Figure size 1800x360 with 1 Axes>"
            ],
            "image/png": "[encoded data removed]"
          },
          "metadata": {
            "needs_background": "light"
          }
        }
      ]
    },
    {
      "cell_type": "code",
      "source": [
        "aa = df.groupby([\"Nacionalidad\",\"Año\"]).Total.sum()\n",
        "plt.subplots(figsize=(20, 6))\n",
        "aa[\"Venezuela\"].plot(x ='Año', label = \"Venezuela\")\n",
        "aa[\"Estados Unidos de America\"].plot(x ='Año', label = \"EEUU\")\n",
        "aa[\"Mexico\"].plot(x ='Año', label = \"Mexico\")\n",
        "plt.legend()\n",
        "plt.show()\n"
      ],
      "metadata": {
        "colab": {
          "base_uri": "https://localhost:8080/",
          "height": 399
        },
        "id": "A6LFA4TVzLST",
        "outputId": "cea6bc36-f80f-471b-d4ff-b9af6429c596"
      },
      "execution_count": 98,
      "outputs": [
        {
          "output_type": "display_data",
          "data": {
            "text/plain": [
              "<Figure size 1440x432 with 1 Axes>"
            ],
            "image/png": "[encoded data removed]"
          },
          "metadata": {
            "needs_background": "light"
          }
        }
      ]
    },
    {
      "cell_type": "code",
      "source": [
        "fem = df.groupby([\"Nacionalidad\",\"Año\"]).Femenino.sum()\n",
        "mas = df.groupby([\"Nacionalidad\",\"Año\"]).Masculino.sum()\n",
        "plt.subplots(figsize=(20, 6))\n",
        "fem[\"Venezuela\"].plot(x=\"Año\", label = \"Venezuela F\")\n",
        "mas[\"Venezuela\"].plot(x=\"Año\", label = \"Venezuela M\")\n",
        "fem[\"Estados Unidos de America\"].plot(x=\"Año\", label = \"EEUU F\")\n",
        "mas[\"Estados Unidos de America\"].plot( x=\"Año\",label = \"EEUU M\")\n",
        "fem[\"Mexico\"].plot(x=\"Año\", label = \"Mexico F\")\n",
        "mas[\"Mexico\"].plot( x=\"Año\",label = \"Mexico M\")\n",
        "plt.legend()\n",
        "plt.show()\n"
      ],
      "metadata": {
        "colab": {
          "base_uri": "https://localhost:8080/",
          "height": 388
        },
        "id": "suKMlljy78Sh",
        "outputId": "d4a5f5f6-23bf-46fa-f869-d6624f6f416a"
      },
      "execution_count": 96,
      "outputs": [
        {
          "output_type": "display_data",
          "data": {
            "text/plain": [
              "<Figure size 1440x432 with 1 Axes>"
            ],
            "image/png": "[encoded data removed]"
          },
          "metadata": {
            "needs_background": "light"
          }
        }
      ]
    },
    {
      "cell_type": "code",
      "source": [
        "\n",
        "df.plot(kind=\"scatter\", x=\"Longitud\", y=\"Latitud\", alpha=0.4, s=df[\"Total\"]/80, \n",
        "             label=\"Total\", c=\"Año\", cmap=plt.get_cmap(\"jet\"), colorbar=True,\n",
        "            )\n",
        "plt.legend()"
      ],
      "metadata": {
        "colab": {
          "base_uri": "https://localhost:8080/",
          "height": 275
        },
        "id": "ILYTZTm9QNZ-",
        "outputId": "94296542-15e8-4f0e-d7df-723b61838ae3"
      },
      "execution_count": 196,
      "outputs": [
        {
          "output_type": "execute_result",
          "data": {
            "text/plain": [
              "<matplotlib.legend.Legend at 0x7f77c7206340>"
            ]
          },
          "metadata": {},
          "execution_count": 196
        },
        {
          "output_type": "display_data",
          "data": {
            "text/plain": [
              "<Figure size 432x288 with 2 Axes>"
            ],
            "image/png": "[encoded data removed]"
          },
          "metadata": {
            "needs_background": "light"
          }
        }
      ]
    },
    {
      "cell_type": "code",
      "source": [
        "#@title Ordenar DataFrame\n",
        "#@markdown Se escogen las columnas deseadas y se crea una columna de clasificación\n",
        "data = df.groupby([\"Codigo Iso 3166\",\"Año\",\"Longitud\",\"Latitud\"]).sum()\n",
        "data = data.drop(['Indefinido'], axis=1)\n",
        "data.reset_index(inplace=True, drop=False)\n",
        "data[\"Mayor\"] = np.where(data['Femenino']>data['Masculino'], 1, 0)\n",
        "data"
      ],
      "metadata": {
        "colab": {
          "base_uri": "https://localhost:8080/",
          "height": 424
        },
        "id": "zhpVAnnDrBwB",
        "outputId": "db1fcf6a-409e-443d-aa41-8972e8de67b0"
      },
      "execution_count": 106,
      "outputs": [
        {
          "output_type": "execute_result",
          "data": {
            "text/plain": [
              "       Codigo Iso 3166   Año   Longitud   Latitud  Femenino  Masculino  Total  \\\n",
              "0                    4  2012 -77.662532  0.814836         0          1      1   \n",
              "1                    4  2012 -74.140516  4.697144         0          4      4   \n",
              "2                    4  2013 -75.736532  4.815061         0          1      1   \n",
              "3                    4  2013 -74.140516  4.697144         2          8     10   \n",
              "4                    4  2014 -76.384584  3.541112         0          2      2   \n",
              "...                ...   ...        ...       ...       ...        ...    ...   \n",
              "20512              887  2022 -74.140516  4.697144         0          7      7   \n",
              "20513              894  2022 -75.427454  6.171601         0          1      1   \n",
              "20514              894  2022 -74.140516  4.697144         2          1      3   \n",
              "20515              901  2022 -75.427454  6.171601         0          1      1   \n",
              "20516              901  2022 -74.140516  4.697144         2          1      3   \n",
              "\n",
              "       Mayor  \n",
              "0          0  \n",
              "1          0  \n",
              "2          0  \n",
              "3          0  \n",
              "4          0  \n",
              "...      ...  \n",
              "20512      0  \n",
              "20513      0  \n",
              "20514      1  \n",
              "20515      0  \n",
              "20516      1  \n",
              "\n",
              "[20517 rows x 8 columns]"
            ],
            "text/html": [
              "\n",
              "  <div id=\"df-6df615e2-dd05-4532-b6c3-12901d63d539\">\n",
              "    <div class=\"colab-df-container\">\n",
              "      <div>\n",
              "<style scoped>\n",
              "    .dataframe tbody tr th:only-of-type {\n",
              "        vertical-align: middle;\n",
              "    }\n",
              "\n",
              "    .dataframe tbody tr th {\n",
              "        vertical-align: top;\n",
              "    }\n",
              "\n",
              "    .dataframe thead th {\n",
              "        text-align: right;\n",
              "    }\n",
              "</style>\n",
              "<table border=\"1\" class=\"dataframe\">\n",
              "  <thead>\n",
              "    <tr style=\"text-align: right;\">\n",
              "      <th></th>\n",
              "      <th>Codigo Iso 3166</th>\n",
              "      <th>Año</th>\n",
              "      <th>Longitud</th>\n",
              "      <th>Latitud</th>\n",
              "      <th>Femenino</th>\n",
              "      <th>Masculino</th>\n",
              "      <th>Total</th>\n",
              "      <th>Mayor</th>\n",
              "    </tr>\n",
              "  </thead>\n",
              "  <tbody>\n",
              "    <tr>\n",
              "      <th>0</th>\n",
              "      <td>4</td>\n",
              "      <td>2012</td>\n",
              "      <td>-77.662532</td>\n",
              "      <td>0.814836</td>\n",
              "      <td>0</td>\n",
              "      <td>1</td>\n",
              "      <td>1</td>\n",
              "      <td>0</td>\n",
              "    </tr>\n",
              "    <tr>\n",
              "      <th>1</th>\n",
              "      <td>4</td>\n",
              "      <td>2012</td>\n",
              "      <td>-74.140516</td>\n",
              "      <td>4.697144</td>\n",
              "      <td>0</td>\n",
              "      <td>4</td>\n",
              "      <td>4</td>\n",
              "      <td>0</td>\n",
              "    </tr>\n",
              "    <tr>\n",
              "      <th>2</th>\n",
              "      <td>4</td>\n",
              "      <td>2013</td>\n",
              "      <td>-75.736532</td>\n",
              "      <td>4.815061</td>\n",
              "      <td>0</td>\n",
              "      <td>1</td>\n",
              "      <td>1</td>\n",
              "      <td>0</td>\n",
              "    </tr>\n",
              "    <tr>\n",
              "      <th>3</th>\n",
              "      <td>4</td>\n",
              "      <td>2013</td>\n",
              "      <td>-74.140516</td>\n",
              "      <td>4.697144</td>\n",
              "      <td>2</td>\n",
              "      <td>8</td>\n",
              "      <td>10</td>\n",
              "      <td>0</td>\n",
              "    </tr>\n",
              "    <tr>\n",
              "      <th>4</th>\n",
              "      <td>4</td>\n",
              "      <td>2014</td>\n",
              "      <td>-76.384584</td>\n",
              "      <td>3.541112</td>\n",
              "      <td>0</td>\n",
              "      <td>2</td>\n",
              "      <td>2</td>\n",
              "      <td>0</td>\n",
              "    </tr>\n",
              "    <tr>\n",
              "      <th>...</th>\n",
              "      <td>...</td>\n",
              "      <td>...</td>\n",
              "      <td>...</td>\n",
              "      <td>...</td>\n",
              "      <td>...</td>\n",
              "      <td>...</td>\n",
              "      <td>...</td>\n",
              "      <td>...</td>\n",
              "    </tr>\n",
              "    <tr>\n",
              "      <th>20512</th>\n",
              "      <td>887</td>\n",
              "      <td>2022</td>\n",
              "      <td>-74.140516</td>\n",
              "      <td>4.697144</td>\n",
              "      <td>0</td>\n",
              "      <td>7</td>\n",
              "      <td>7</td>\n",
              "      <td>0</td>\n",
              "    </tr>\n",
              "    <tr>\n",
              "      <th>20513</th>\n",
              "      <td>894</td>\n",
              "      <td>2022</td>\n",
              "      <td>-75.427454</td>\n",
              "      <td>6.171601</td>\n",
              "      <td>0</td>\n",
              "      <td>1</td>\n",
              "      <td>1</td>\n",
              "      <td>0</td>\n",
              "    </tr>\n",
              "    <tr>\n",
              "      <th>20514</th>\n",
              "      <td>894</td>\n",
              "      <td>2022</td>\n",
              "      <td>-74.140516</td>\n",
              "      <td>4.697144</td>\n",
              "      <td>2</td>\n",
              "      <td>1</td>\n",
              "      <td>3</td>\n",
              "      <td>1</td>\n",
              "    </tr>\n",
              "    <tr>\n",
              "      <th>20515</th>\n",
              "      <td>901</td>\n",
              "      <td>2022</td>\n",
              "      <td>-75.427454</td>\n",
              "      <td>6.171601</td>\n",
              "      <td>0</td>\n",
              "      <td>1</td>\n",
              "      <td>1</td>\n",
              "      <td>0</td>\n",
              "    </tr>\n",
              "    <tr>\n",
              "      <th>20516</th>\n",
              "      <td>901</td>\n",
              "      <td>2022</td>\n",
              "      <td>-74.140516</td>\n",
              "      <td>4.697144</td>\n",
              "      <td>2</td>\n",
              "      <td>1</td>\n",
              "      <td>3</td>\n",
              "      <td>1</td>\n",
              "    </tr>\n",
              "  </tbody>\n",
              "</table>\n",
              "<p>20517 rows × 8 columns</p>\n",
              "</div>\n",
              "      <button class=\"colab-df-convert\" onclick=\"convertToInteractive('df-6df615e2-dd05-4532-b6c3-12901d63d539')\"\n",
              "              title=\"Convert this dataframe to an interactive table.\"\n",
              "              style=\"display:none;\">\n",
              "        \n",
              "  <svg xmlns=\"http://www.w3.org/2000/svg\" height=\"24px\"viewBox=\"0 0 24 24\"\n",
              "       width=\"24px\">\n",
              "    <path d=\"M0 0h24v24H0V0z\" fill=\"none\"/>\n",
              "    <path d=\"M18.56 5.44l.94 2.06.94-2.06 2.06-.94-2.06-.94-.94-2.06-.94 2.06-2.06.94zm-11 1L8.5 8.5l.94-2.06 2.06-.94-2.06-.94L8.5 2.5l-.94 2.06-2.06.94zm10 10l.94 2.06.94-2.06 2.06-.94-2.06-.94-.94-2.06-.94 2.06-2.06.94z\"/><path d=\"M17.41 7.96l-1.37-1.37c-.4-.4-.92-.59-1.43-.59-.52 0-1.04.2-1.43.59L10.3 9.45l-7.72 7.72c-.78.78-.78 2.05 0 2.83L4 21.41c.39.39.9.59 1.41.59.51 0 1.02-.2 1.41-.59l7.78-7.78 2.81-2.81c.8-.78.8-2.07 0-2.86zM5.41 20L4 18.59l7.72-7.72 1.47 1.35L5.41 20z\"/>\n",
              "  </svg>\n",
              "      </button>\n",
              "      \n",
              "  <style>\n",
              "    .colab-df-container {\n",
              "      display:flex;\n",
              "      flex-wrap:wrap;\n",
              "      gap: 12px;\n",
              "    }\n",
              "\n",
              "    .colab-df-convert {\n",
              "      background-color: #E8F0FE;\n",
              "      border: none;\n",
              "      border-radius: 50%;\n",
              "      cursor: pointer;\n",
              "      display: none;\n",
              "      fill: #1967D2;\n",
              "      height: 32px;\n",
              "      padding: 0 0 0 0;\n",
              "      width: 32px;\n",
              "    }\n",
              "\n",
              "    .colab-df-convert:hover {\n",
              "      background-color: #E2EBFA;\n",
              "      box-shadow: 0px 1px 2px rgba(60, 64, 67, 0.3), 0px 1px 3px 1px rgba(60, 64, 67, 0.15);\n",
              "      fill: #174EA6;\n",
              "    }\n",
              "\n",
              "    [theme=dark] .colab-df-convert {\n",
              "      background-color: #3B4455;\n",
              "      fill: #D2E3FC;\n",
              "    }\n",
              "\n",
              "    [theme=dark] .colab-df-convert:hover {\n",
              "      background-color: #434B5C;\n",
              "      box-shadow: 0px 1px 3px 1px rgba(0, 0, 0, 0.15);\n",
              "      filter: drop-shadow(0px 1px 2px rgba(0, 0, 0, 0.3));\n",
              "      fill: #FFFFFF;\n",
              "    }\n",
              "  </style>\n",
              "\n",
              "      <script>\n",
              "        const buttonEl =\n",
              "          document.querySelector('#df-6df615e2-dd05-4532-b6c3-12901d63d539 button.colab-df-convert');\n",
              "        buttonEl.style.display =\n",
              "          google.colab.kernel.accessAllowed ? 'block' : 'none';\n",
              "\n",
              "        async function convertToInteractive(key) {\n",
              "          const element = document.querySelector('#df-6df615e2-dd05-4532-b6c3-12901d63d539');\n",
              "          const dataTable =\n",
              "            await google.colab.kernel.invokeFunction('convertToInteractive',\n",
              "                                                     [key], {});\n",
              "          if (!dataTable) return;\n",
              "\n",
              "          const docLinkHtml = 'Like what you see? Visit the ' +\n",
              "            '<a target=\"_blank\" href=https://colab.research.google.com/notebooks/data_table.ipynb>data table notebook</a>'\n",
              "            + ' to learn more about interactive tables.';\n",
              "          element.innerHTML = '';\n",
              "          dataTable['output_type'] = 'display_data';\n",
              "          await google.colab.output.renderOutput(dataTable, element);\n",
              "          const docLink = document.createElement('div');\n",
              "          docLink.innerHTML = docLinkHtml;\n",
              "          element.appendChild(docLink);\n",
              "        }\n",
              "      </script>\n",
              "    </div>\n",
              "  </div>\n",
              "  "
            ]
          },
          "metadata": {},
          "execution_count": 106
        }
      ]
    },
    {
      "cell_type": "code",
      "source": [
        "\n",
        "#@markdown Se particiona y se escogen los datos de entrnamiento y de testeo\n",
        "data = df.groupby([\"Codigo Iso 3166\",\"Año\",\"Longitud\",\"Latitud\"]).sum()\n",
        "data = data.drop(['Indefinido'], axis=1)\n",
        "data.reset_index(inplace=True, drop=False)\n",
        "data[\"Mayor\"] = np.where(data['Femenino']>data['Masculino'], 1, 0)\n",
        "\n",
        "X = data.values[:,:-1]\n",
        "y = data.values[:,-1]\n",
        "\n",
        "X_train, X_test, y_train, y_test = train_test_split(X, y, test_size=0.2, random_state=21)"
      ],
      "metadata": {
        "id": "F9V_73Ev5R2c"
      },
      "execution_count": 107,
      "outputs": []
    },
    {
      "cell_type": "code",
      "source": [
        "#@title Gaussian NB\n",
        "#@markdown se elimina el iso 99999 que no corresponde a ninguna pais y son datos que pueden afectar el data frame\n",
        "\n",
        "est = GaussianNB()\n",
        "est.fit(X_train,y_train)\n",
        "print(accuracy_score(est.predict(X_test), y_test))\n"
      ],
      "metadata": {
        "colab": {
          "base_uri": "https://localhost:8080/"
        },
        "id": "WTp11YNJuUUQ",
        "outputId": "6fa90d93-1610-4ea8-a391-888e60105283"
      },
      "execution_count": 108,
      "outputs": [
        {
          "output_type": "stream",
          "name": "stdout",
          "text": [
            "0.8357699805068226\n"
          ]
        }
      ]
    },
    {
      "cell_type": "code",
      "source": [
        "#@title Decision Tree classifier\n",
        "est = DecisionTreeClassifier(max_depth=2)\n",
        "est.fit(X_train,y_train)\n",
        "print(accuracy_score(est.predict(X_test), y_test))"
      ],
      "metadata": {
        "colab": {
          "base_uri": "https://localhost:8080/"
        },
        "id": "uRQoCARP2Xw9",
        "outputId": "fa8129ce-e83c-4190-9e63-46981323a028"
      },
      "execution_count": 109,
      "outputs": [
        {
          "output_type": "stream",
          "name": "stdout",
          "text": [
            "0.9134990253411306\n"
          ]
        }
      ]
    },
    {
      "cell_type": "code",
      "source": [
        "#@title trp - tnr\n",
        "\n",
        "def tpr(est,X,y):\n",
        "    p = est.predict(X)\n",
        "    return np.mean (p[y==1] == y[y==1])\n",
        "\n",
        "def tnr(est,X,y):\n",
        "    p = est.predict(X)\n",
        "    return np.mean(p[y==0] == y[y==0])"
      ],
      "metadata": {
        "cellView": "form",
        "id": "zovoJn9q19hu"
      },
      "execution_count": 110,
      "outputs": []
    },
    {
      "cell_type": "code",
      "source": [
        "\n",
        "est = DecisionTreeClassifier(max_depth=2)\n",
        "\n",
        "s = cross_val_score(est, X, y, cv=KFold(10, shuffle=True), scoring=make_scorer(accuracy_score))\n",
        "print(\"accuracy %.3f (+/- %.5f)\"%(np.mean(s), np.std(s)))\n",
        "s = cross_val_score(est, X, y, cv=KFold(10, shuffle=True), scoring=tpr)\n",
        "print(\"tpr      %.3f (+/- %.5f)\"%(np.mean(s), np.std(s)))\n",
        "s = cross_val_score(est, X, y, cv=KFold(10, shuffle=True), scoring=tnr)\n",
        "print(\"tnr      %.3f (+/- %.5f)\"%(np.mean(s), np.std(s)))\n"
      ],
      "metadata": {
        "colab": {
          "base_uri": "https://localhost:8080/"
        },
        "id": "Eb2KgokayA6H",
        "outputId": "257f6bb3-372f-45f9-ff5a-0030defcef05"
      },
      "execution_count": 111,
      "outputs": [
        {
          "output_type": "stream",
          "name": "stdout",
          "text": [
            "accuracy 0.907 (+/- 0.00574)\n",
            "tpr      0.435 (+/- 0.02612)\n",
            "tnr      1.000 (+/- 0.00000)\n"
          ]
        }
      ]
    },
    {
      "cell_type": "code",
      "source": [
        "#@title Random Forest classifier (RFC)\n",
        "\n",
        "est = RandomForestClassifier()\n",
        "est.fit(X_train,y_train)\n",
        "print(accuracy_score(est.predict(X_test), y_test))"
      ],
      "metadata": {
        "colab": {
          "base_uri": "https://localhost:8080/"
        },
        "id": "QPJvS7lQ2suN",
        "outputId": "59c902ed-9a47-4b4c-dc37-6c911e26bf03"
      },
      "execution_count": 265,
      "outputs": [
        {
          "output_type": "stream",
          "name": "stdout",
          "text": [
            "0.011961722488038277\n"
          ]
        }
      ]
    },
    {
      "cell_type": "code",
      "source": [
        "\n",
        "s = cross_val_score(est, X, y, cv=KFold(10, shuffle=True), scoring=make_scorer(accuracy_score))\n",
        "print(\"accuracy %.3f (+/- %.5f)\"%(np.mean(s), np.std(s)))\n",
        "s = cross_val_score(est, X, y, cv=KFold(10, shuffle=True), scoring=tpr)\n",
        "print(\"tpr      %.3f (+/- %.5f)\"%(np.mean(s), np.std(s)))\n",
        "s = cross_val_score(est, X, y, cv=KFold(10, shuffle=True), scoring=tnr)\n",
        "print(\"tnr      %.3f (+/- %.5f)\"%(np.mean(s), np.std(s)))"
      ],
      "metadata": {
        "colab": {
          "base_uri": "https://localhost:8080/"
        },
        "id": "lX_M5dNy4cm9",
        "outputId": "92ce06f0-b998-46f8-e14b-0b7562eeb684"
      },
      "execution_count": 266,
      "outputs": [
        {
          "output_type": "stream",
          "name": "stdout",
          "text": [
            "accuracy 0.983 (+/- 0.00232)\n",
            "tpr      0.902 (+/- 0.01778)\n",
            "tnr      0.998 (+/- 0.00098)\n"
          ]
        }
      ]
    },
    {
      "cell_type": "code",
      "source": [
        "#@title SVC\n",
        "\n",
        "est = SVC()\n",
        "est.fit(X_train,y_train)\n",
        "print(accuracy_score(est.predict(X_test), y_test))"
      ],
      "metadata": {
        "colab": {
          "base_uri": "https://localhost:8080/"
        },
        "id": "yaEVGw6C8Dlj",
        "outputId": "671d5a41-9365-42f0-f4d5-3fb5ffe6aa9e"
      },
      "execution_count": 114,
      "outputs": [
        {
          "output_type": "stream",
          "name": "stdout",
          "text": [
            "0.8362573099415205\n"
          ]
        }
      ]
    },
    {
      "cell_type": "code",
      "source": [
        "s = cross_val_score(est, X, y, cv=KFold(10, shuffle=True), scoring=make_scorer(accuracy_score))\n",
        "print(\"accuracy %.3f (+/- %.5f)\"%(np.mean(s), np.std(s)))\n",
        "s = cross_val_score(est, X, y, cv=KFold(10, shuffle=True), scoring=tpr)\n",
        "print(\"tpr      %.3f (+/- %.5f)\"%(np.mean(s), np.std(s)))\n",
        "s = cross_val_score(est, X, y, cv=KFold(10, shuffle=True), scoring=tnr)\n",
        "print(\"tnr      %.3f (+/- %.5f)\"%(np.mean(s), np.std(s)))"
      ],
      "metadata": {
        "colab": {
          "base_uri": "https://localhost:8080/"
        },
        "id": "_JGZcdj08Idr",
        "outputId": "e06b7e28-36f2-4597-bc41-25cd502fbef7"
      },
      "execution_count": 115,
      "outputs": [
        {
          "output_type": "stream",
          "name": "stdout",
          "text": [
            "accuracy 0.837 (+/- 0.00469)\n",
            "tpr      0.011 (+/- 0.00361)\n",
            "tnr      1.000 (+/- 0.00000)\n"
          ]
        }
      ]
    },
    {
      "cell_type": "code",
      "source": [
        "df1 = data.groupby('Año')['Total'].sum().reset_index()\n",
        "X_train, X_test, y_train, y_test = train_test_split(df1['Año'], df1['Total'], test_size=0.2, random_state=42)\n",
        "res = DecisionTreeRegressor(max_depth=15)\n",
        "res.fit(X_train.values.reshape(-1, 1), y_train)\n"
      ],
      "metadata": {
        "colab": {
          "base_uri": "https://localhost:8080/"
        },
        "id": "vvuqIMw6Ybi5",
        "outputId": "542b678d-3e23-4847-91d1-7cb452b8a10f"
      },
      "execution_count": 239,
      "outputs": [
        {
          "output_type": "execute_result",
          "data": {
            "text/plain": [
              "DecisionTreeRegressor(max_depth=15)"
            ]
          },
          "metadata": {},
          "execution_count": 239
        }
      ]
    },
    {
      "cell_type": "code",
      "source": [
        "prediccion = res.predict([[2016]])\n",
        "\n",
        "print('La cantidad de migrantes pronosticada para el año 2021 es:', prediccion)"
      ],
      "metadata": {
        "colab": {
          "base_uri": "https://localhost:8080/"
        },
        "id": "AWRPKiWibNAZ",
        "outputId": "c54c51c8-d078-4417-fc62-020153672347"
      },
      "execution_count": 243,
      "outputs": [
        {
          "output_type": "stream",
          "name": "stdout",
          "text": [
            "La cantidad de inmigrantes pronosticada para el año 2021 es: [2696484.]\n"
          ]
        }
      ]
    },
    {
      "cell_type": "code",
      "source": [],
      "metadata": {
        "id": "UPwHT8yYDsOl"
      },
      "execution_count": null,
      "outputs": []
    },
    {
      "cell_type": "code",
      "source": [
        "df2 = data.groupby(['Año','Codigo Iso 3166'])['Total'].sum().reset_index()\n",
        "df2"
      ],
      "metadata": {
        "colab": {
          "base_uri": "https://localhost:8080/",
          "height": 424
        },
        "id": "cYsCzn8HnHzR",
        "outputId": "35410828-9061-4cc4-b1c3-adb9eaaabc6e"
      },
      "execution_count": 244,
      "outputs": [
        {
          "output_type": "execute_result",
          "data": {
            "text/plain": [
              "       Año  Codigo Iso 3166   Total\n",
              "0     2012                4       5\n",
              "1     2012                8      44\n",
              "2     2012               12      61\n",
              "3     2012               16       2\n",
              "4     2012               20     124\n",
              "...    ...              ...     ...\n",
              "2082  2022              860       5\n",
              "2083  2022              862  205413\n",
              "2084  2022              887       9\n",
              "2085  2022              894       4\n",
              "2086  2022              901       4\n",
              "\n",
              "[2087 rows x 3 columns]"
            ],
            "text/html": [
              "\n",
              "  <div id=\"df-21373a30-45c0-4e19-bd88-6cd207a52485\">\n",
              "    <div class=\"colab-df-container\">\n",
              "      <div>\n",
              "<style scoped>\n",
              "    .dataframe tbody tr th:only-of-type {\n",
              "        vertical-align: middle;\n",
              "    }\n",
              "\n",
              "    .dataframe tbody tr th {\n",
              "        vertical-align: top;\n",
              "    }\n",
              "\n",
              "    .dataframe thead th {\n",
              "        text-align: right;\n",
              "    }\n",
              "</style>\n",
              "<table border=\"1\" class=\"dataframe\">\n",
              "  <thead>\n",
              "    <tr style=\"text-align: right;\">\n",
              "      <th></th>\n",
              "      <th>Año</th>\n",
              "      <th>Codigo Iso 3166</th>\n",
              "      <th>Total</th>\n",
              "    </tr>\n",
              "  </thead>\n",
              "  <tbody>\n",
              "    <tr>\n",
              "      <th>0</th>\n",
              "      <td>2012</td>\n",
              "      <td>4</td>\n",
              "      <td>5</td>\n",
              "    </tr>\n",
              "    <tr>\n",
              "      <th>1</th>\n",
              "      <td>2012</td>\n",
              "      <td>8</td>\n",
              "      <td>44</td>\n",
              "    </tr>\n",
              "    <tr>\n",
              "      <th>2</th>\n",
              "      <td>2012</td>\n",
              "      <td>12</td>\n",
              "      <td>61</td>\n",
              "    </tr>\n",
              "    <tr>\n",
              "      <th>3</th>\n",
              "      <td>2012</td>\n",
              "      <td>16</td>\n",
              "      <td>2</td>\n",
              "    </tr>\n",
              "    <tr>\n",
              "      <th>4</th>\n",
              "      <td>2012</td>\n",
              "      <td>20</td>\n",
              "      <td>124</td>\n",
              "    </tr>\n",
              "    <tr>\n",
              "      <th>...</th>\n",
              "      <td>...</td>\n",
              "      <td>...</td>\n",
              "      <td>...</td>\n",
              "    </tr>\n",
              "    <tr>\n",
              "      <th>2082</th>\n",
              "      <td>2022</td>\n",
              "      <td>860</td>\n",
              "      <td>5</td>\n",
              "    </tr>\n",
              "    <tr>\n",
              "      <th>2083</th>\n",
              "      <td>2022</td>\n",
              "      <td>862</td>\n",
              "      <td>205413</td>\n",
              "    </tr>\n",
              "    <tr>\n",
              "      <th>2084</th>\n",
              "      <td>2022</td>\n",
              "      <td>887</td>\n",
              "      <td>9</td>\n",
              "    </tr>\n",
              "    <tr>\n",
              "      <th>2085</th>\n",
              "      <td>2022</td>\n",
              "      <td>894</td>\n",
              "      <td>4</td>\n",
              "    </tr>\n",
              "    <tr>\n",
              "      <th>2086</th>\n",
              "      <td>2022</td>\n",
              "      <td>901</td>\n",
              "      <td>4</td>\n",
              "    </tr>\n",
              "  </tbody>\n",
              "</table>\n",
              "<p>2087 rows × 3 columns</p>\n",
              "</div>\n",
              "      <button class=\"colab-df-convert\" onclick=\"convertToInteractive('df-21373a30-45c0-4e19-bd88-6cd207a52485')\"\n",
              "              title=\"Convert this dataframe to an interactive table.\"\n",
              "              style=\"display:none;\">\n",
              "        \n",
              "  <svg xmlns=\"http://www.w3.org/2000/svg\" height=\"24px\"viewBox=\"0 0 24 24\"\n",
              "       width=\"24px\">\n",
              "    <path d=\"M0 0h24v24H0V0z\" fill=\"none\"/>\n",
              "    <path d=\"M18.56 5.44l.94 2.06.94-2.06 2.06-.94-2.06-.94-.94-2.06-.94 2.06-2.06.94zm-11 1L8.5 8.5l.94-2.06 2.06-.94-2.06-.94L8.5 2.5l-.94 2.06-2.06.94zm10 10l.94 2.06.94-2.06 2.06-.94-2.06-.94-.94-2.06-.94 2.06-2.06.94z\"/><path d=\"M17.41 7.96l-1.37-1.37c-.4-.4-.92-.59-1.43-.59-.52 0-1.04.2-1.43.59L10.3 9.45l-7.72 7.72c-.78.78-.78 2.05 0 2.83L4 21.41c.39.39.9.59 1.41.59.51 0 1.02-.2 1.41-.59l7.78-7.78 2.81-2.81c.8-.78.8-2.07 0-2.86zM5.41 20L4 18.59l7.72-7.72 1.47 1.35L5.41 20z\"/>\n",
              "  </svg>\n",
              "      </button>\n",
              "      \n",
              "  <style>\n",
              "    .colab-df-container {\n",
              "      display:flex;\n",
              "      flex-wrap:wrap;\n",
              "      gap: 12px;\n",
              "    }\n",
              "\n",
              "    .colab-df-convert {\n",
              "      background-color: #E8F0FE;\n",
              "      border: none;\n",
              "      border-radius: 50%;\n",
              "      cursor: pointer;\n",
              "      display: none;\n",
              "      fill: #1967D2;\n",
              "      height: 32px;\n",
              "      padding: 0 0 0 0;\n",
              "      width: 32px;\n",
              "    }\n",
              "\n",
              "    .colab-df-convert:hover {\n",
              "      background-color: #E2EBFA;\n",
              "      box-shadow: 0px 1px 2px rgba(60, 64, 67, 0.3), 0px 1px 3px 1px rgba(60, 64, 67, 0.15);\n",
              "      fill: #174EA6;\n",
              "    }\n",
              "\n",
              "    [theme=dark] .colab-df-convert {\n",
              "      background-color: #3B4455;\n",
              "      fill: #D2E3FC;\n",
              "    }\n",
              "\n",
              "    [theme=dark] .colab-df-convert:hover {\n",
              "      background-color: #434B5C;\n",
              "      box-shadow: 0px 1px 3px 1px rgba(0, 0, 0, 0.15);\n",
              "      filter: drop-shadow(0px 1px 2px rgba(0, 0, 0, 0.3));\n",
              "      fill: #FFFFFF;\n",
              "    }\n",
              "  </style>\n",
              "\n",
              "      <script>\n",
              "        const buttonEl =\n",
              "          document.querySelector('#df-21373a30-45c0-4e19-bd88-6cd207a52485 button.colab-df-convert');\n",
              "        buttonEl.style.display =\n",
              "          google.colab.kernel.accessAllowed ? 'block' : 'none';\n",
              "\n",
              "        async function convertToInteractive(key) {\n",
              "          const element = document.querySelector('#df-21373a30-45c0-4e19-bd88-6cd207a52485');\n",
              "          const dataTable =\n",
              "            await google.colab.kernel.invokeFunction('convertToInteractive',\n",
              "                                                     [key], {});\n",
              "          if (!dataTable) return;\n",
              "\n",
              "          const docLinkHtml = 'Like what you see? Visit the ' +\n",
              "            '<a target=\"_blank\" href=https://colab.research.google.com/notebooks/data_table.ipynb>data table notebook</a>'\n",
              "            + ' to learn more about interactive tables.';\n",
              "          element.innerHTML = '';\n",
              "          dataTable['output_type'] = 'display_data';\n",
              "          await google.colab.output.renderOutput(dataTable, element);\n",
              "          const docLink = document.createElement('div');\n",
              "          docLink.innerHTML = docLinkHtml;\n",
              "          element.appendChild(docLink);\n",
              "        }\n",
              "      </script>\n",
              "    </div>\n",
              "  </div>\n",
              "  "
            ]
          },
          "metadata": {},
          "execution_count": 244
        }
      ]
    },
    {
      "cell_type": "code",
      "source": [
        "X_train, X_test, y_train, y_test = train_test_split(df2[['Año','Codigo Iso 3166']], df2['Total'], test_size=0.2, random_state=21)\n",
        "model = DecisionTreeClassifier()\n",
        "model.fit(X_train, y_train)\n",
        "y_pred = model.predict(X_test)\n",
        "\n",
        "s = cross_val_score(model, df2[['Año','Codigo Iso 3166']], df2['Total'], cv=KFold(10, shuffle=True), scoring=make_scorer(accuracy_score))\n",
        "print(\"accuracy %.3f (+/- %.5f)\"%(np.mean(s), np.std(s)))\n",
        "s = cross_val_score(est, X, y, cv=KFold(10, shuffle=True), scoring=tpr)\n",
        "print(\"tpr      %.3f (+/- %.5f)\"%(np.mean(s), np.std(s)))\n",
        "s = cross_val_score(est, X, y, cv=KFold(10, shuffle=True), scoring=tnr)\n",
        "print(\"tnr      %.3f (+/- %.5f)\"%(np.mean(s), np.std(s)))"
      ],
      "metadata": {
        "colab": {
          "base_uri": "https://localhost:8080/"
        },
        "id": "QaJhSpIMcThZ",
        "outputId": "dcb46803-886d-4aad-b11b-10fae9d574d4"
      },
      "execution_count": 268,
      "outputs": [
        {
          "output_type": "stream",
          "name": "stdout",
          "text": [
            "accuracy 0.034 (+/- 0.00829)\n",
            "tpr      0.908 (+/- 0.01613)\n",
            "tnr      0.998 (+/- 0.00047)\n"
          ]
        }
      ]
    }
  ]
}
